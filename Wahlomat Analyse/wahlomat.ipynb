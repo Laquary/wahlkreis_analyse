{
 "cells": [
  {
   "cell_type": "code",
   "execution_count": 156,
   "id": "initial_id",
   "metadata": {
    "collapsed": true,
    "ExecuteTime": {
     "end_time": "2025-01-05T21:28:10.267657280Z",
     "start_time": "2025-01-05T21:28:10.225344071Z"
    }
   },
   "outputs": [],
   "source": [
    "import pandas as pd\n",
    "\n",
    "def get_party_positions(path_party_positions):\n",
    "    return pd.read_csv(path_party_positions)\n",
    "\n",
    "def get_parties(party_positions):\n",
    "    return list(party_positions.columns[2:len(party_positions.keys())])\n",
    "\n",
    "def get_constituency_positions(path_constituency_results, path_party_positions):\n",
    "    \"\"\"\n",
    "    Liest Wahlkreisdaten aus einer CSV-Datei und erstellt Wahlkreis-Objekte.\n",
    "    \n",
    "    :param datei_pfad: Pfad zur CSV-Datei\n",
    "    :return: Liste von Wahlkreis-Objekten\n",
    "    \"\"\"\n",
    "    # CSV-Datei einlesen\n",
    "    constituency_results = pd.read_csv(path_constituency_results)\n",
    "    wahlomat_results = pd.read_csv(path_party_positions)\n",
    "    \n",
    "    # Parteien aus den Spalten extrahieren (alle ab der 4. Spalte)\n",
    "    parties = list(wahlomat_results.columns[2:len(wahlomat_results.keys())])\n",
    "    #print(parties)\n",
    "    constituency_positions = {}\n",
    "    \n",
    "    for _, row in constituency_results.iterrows():\n",
    "        id = row['id']\n",
    "        name = row['wahlkreisname']\n",
    "        constituency_positions[id] = {'name': name, 'positions': {}}\n",
    "        \n",
    "        for question in wahlomat_results['id']:\n",
    "            constituency_positions[id]['positions'][question] = 0\n",
    "            \n",
    "            for party in parties:\n",
    "                votes = row[party]\n",
    "                position = wahlomat_results[party][question-1]\n",
    "                \n",
    "                constituency_positions[id]['positions'][question] += votes*position\n",
    "            constituency_positions[id]['positions'][question] /= row['gesamt']\n",
    "            \n",
    "    return constituency_positions\n",
    "\n",
    "def get_party_matchings(constituency_positions, party_positions):\n",
    "    party_matchings = {}\n",
    "    \n",
    "    parties = get_parties(party_positions)\n",
    "    for c in constituency_positions:\n",
    "        constituency = constituency_positions[c]\n",
    "        constituency_matchings = {}\n",
    "        for p in parties:\n",
    "            constituency_matchings[p] = 0\n",
    "            for q in constituency['positions']:\n",
    "                constituency_matchings[p] += constituency['positions'][q]*party_positions[p][q-1]\n",
    "        party_matchings[c] = constituency_matchings\n",
    "    \n",
    "    return party_matchings\n",
    "\n",
    "def get_similarity(constituency_positions, constituency_a, constituency_b):\n",
    "    s = 76\n",
    "    for q in constituency_positions[constituency_a]['positions']:\n",
    "        pos_a = constituency_positions[constituency_a]['positions'][q]\n",
    "        pos_b = constituency_positions[constituency_b]['positions'][q]\n",
    "        s -= abs(pos_a - pos_b)\n",
    "    return s / 76\n",
    "    \n",
    "def get_constituency_similarities(constituency_positions, constituency):\n",
    "    constituency_similarities = {}\n",
    "    \n",
    "    for c in constituency_positions:\n",
    "        constituency_similarities[c] = get_similarity(constituency_positions, constituency, c)\n",
    "        \n",
    "    return constituency_similarities"
   ]
  },
  {
   "cell_type": "code",
   "outputs": [],
   "source": [
    "wahlkreise = 'bundestagswahl_2021.csv'\n",
    "wahlomat = 'wahlomat.csv'\n",
    "\n",
    "constituency_positions = get_constituency_positions(wahlkreise, wahlomat)\n",
    "party_positions = get_party_positions(wahlomat)\n",
    "parties = get_parties(party_positions)"
   ],
   "metadata": {
    "collapsed": false,
    "ExecuteTime": {
     "end_time": "2025-01-05T19:37:52.973564518Z",
     "start_time": "2025-01-05T19:37:49.571665684Z"
    }
   },
   "id": "aa23e7cbe2ffede7",
   "execution_count": 61
  },
  {
   "cell_type": "code",
   "outputs": [
    {
     "data": {
      "text/plain": "    id                                              Thema  CDU  SPD  AfD  FDP  \\\n0    1                         Tempolimit auf Autobahnen    -1    1   -1   -1   \n1    2                 Erhöhung der Verteidigungsausgaben    1    1    1    1   \n2    3                                       Wählen ab 16   -1    1   -1    1   \n3    4                                        Windenergie   -1   -1    1    0   \n4    5                      Begrenzung für Mieterhöhungen    0    1   -1   -1   \n5    6                        Patentschutz für Impfstoffe    1    1    1    1   \n6    7                  Ausstieg aus der Kohleverstromung   -1    1   -1    0   \n7    8                     Gesetzliche Rentenversicherung   -1    1    1   -1   \n8    9                   Abschaffung des Familiennachzugs   -1   -1    1    0   \n9   10               Steuer auf digitale Dienstleistungen    0    1    1   -1   \n10  11                              Traditionelle Familie   -1   -1    1   -1   \n11  12                                      Parteispenden    1    1    1    1   \n12  13                           Elternunabhängiges BAföG   -1   -1   -1    1   \n13  14                        Doppelte Staatsbürgerschaft   -1    1   -1    0   \n14  15  Sprachliche Berücksichtigung von Geschlechtsid...    0    1   -1    0   \n15  16                                      Nord Stream 2    1    1    1    0   \n16  17              Abschaffung des Solidaritätszuschlags    1   -1    1    1   \n17  18                                 Kopftuch im Dienst   -1   -1   -1    0   \n18  19                                  Verbrennungsmotor    1   -1    1    1   \n19  20                                       Schulpolitik   -1    1   -1    1   \n20  21                                     Antisemitismus    1    1    1    1   \n21  22                     Aufträge an chinesische Firmen    0   -1    1    1   \n22  23                                      Kirchensteuer    1    1    0    1   \n23  24                               Verkauf von Cannabis   -1    1   -1    1   \n24  25                                Austritt aus der EU   -1   -1    1   -1   \n25  26                 Frauen und Männer auf Landeslisten    0    1   -1   -1   \n26  27                     Abrechnung über Fallpauschalen    1   -1   -1    1   \n27  28                           Steuer auf hohe Vermögen   -1    1   -1   -1   \n28  29             Gesichtserkennung bei Videoüberwachung    1   -1    0   -1   \n29  30                               Ehepaare ohne Kinder    1    1    1    1   \n30  31                         Ökologische Landwirtschaft    0    1   -1   -1   \n31  32                                Islamische Verbände    0    1   -1    1   \n32  33                            Anstieg des CO2-Preises    0   -1   -1    0   \n33  34                                     Schuldenbremse    1    1    1    1   \n34  35                   Asyl nur für politisch Verfolgte    1    1    1    1   \n35  36                          Erhöhung des Mindestlohns    0    1   -1   -1   \n36  37                       Besteuerung des Flugverkehrs   -1    1   -1   -1   \n37  38                                         Homeoffice    1   -1    1    0   \n\n    DIE LINKE  BÜNDNIS 90/DIE GRÜNEN  FREIE WÄHLER  PARTEI  ...  III. Weg  \\\n0           1                      1            -1       1  ...         0   \n1          -1                     -1             1      -1  ...         1   \n2           1                      1            -1       1  ...        -1   \n3          -1                     -1            -1      -1  ...         1   \n4           1                      1            -1       1  ...         1   \n5          -1                     -1             1      -1  ...        -1   \n6           1                      1            -1       1  ...        -1   \n7           1                      1            -1       1  ...         1   \n8          -1                     -1            -1      -1  ...         1   \n9           1                      1             1       1  ...         1   \n10         -1                     -1            -1      -1  ...         1   \n11         -1                     -1             0      -1  ...         0   \n12          1                      1             1       1  ...         1   \n13          1                      1             1       1  ...        -1   \n14          1                      1             0       1  ...        -1   \n15          0                     -1             1      -1  ...         1   \n16         -1                     -1             1       1  ...         1   \n17          1                      1             0       1  ...        -1   \n18         -1                     -1             1      -1  ...         1   \n19          1                      1             1       1  ...         1   \n20          1                      1             1       1  ...        -1   \n21         -1                      1             1       1  ...         1   \n22         -1                      1             1      -1  ...        -1   \n23          1                      1             1       1  ...        -1   \n24         -1                     -1            -1      -1  ...         1   \n25          1                      1            -1       1  ...        -1   \n26         -1                      1            -1      -1  ...         0   \n27          1                      1            -1       1  ...         1   \n28         -1                     -1             0      -1  ...        -1   \n29         -1                      0             1       1  ...        -1   \n30          1                      1             0       1  ...         1   \n31          1                      1            -1       1  ...        -1   \n32          0                      1            -1       1  ...        -1   \n33         -1                      0             1      -1  ...         0   \n34         -1                     -1             1       1  ...         1   \n35          1                      1             0       1  ...         1   \n36          1                      1             1       1  ...        -1   \n37         -1                     -1             1      -1  ...         1   \n\n    Bündnis21  LIEBE  LKR  PdF  LfK  SSW  Todenhöfer  Unabhängige  Volt  \n0          -1      1   -1   -1    1    1          -1           -1     1  \n1          -1      1    1    1   -1    0          -1            0    -1  \n2          -1      1   -1    0    1    1           0            0     1  \n3           1      1    1   -1    0   -1          -1            1    -1  \n4          -1      1   -1    0    0    1          -1            1     1  \n5          -1      1    1   -1   -1    0          -1            0    -1  \n6          -1     -1   -1    0    1    1          -1            0     1  \n7           1      1   -1    1    1    1           1            1     1  \n8          -1     -1   -1   -1   -1   -1          -1            0    -1  \n9           1      1   -1    0    0    1           1            1     1  \n10         -1      1   -1   -1   -1   -1          -1            1    -1  \n11          1      1   -1    1   -1    1           1            0     1  \n12         -1      1    1   -1    1    1           1            0     1  \n13         -1     -1   -1    1    0    1           1           -1     1  \n14         -1      1   -1    1    1    0          -1           -1     1  \n15         -1      1    1    1    0   -1           1            1    -1  \n16          1      1    1    1    0    1           1            1     1  \n17         -1      1   -1    1    0    1           1           -1     1  \n18          1      1    1    0    0   -1           1            1    -1  \n19         -1      1   -1    1    0   -1           1            1     1  \n20         -1      1    1    1    0    1           1            0     1  \n21         -1      1    1    1    0    1          -1            1    -1  \n22         -1      1   -1   -1    0    1          -1           -1    -1  \n23          1      1   -1    1    0    1           1            1     1  \n24         -1     -1   -1   -1   -1   -1          -1           -1    -1  \n25         -1      1   -1    0    0   -1          -1           -1     1  \n26          1      1   -1   -1    0   -1          -1           -1    -1  \n27         -1      1   -1   -1    0    1          -1            1    -1  \n28         -1      1   -1   -1    0   -1          -1            0    -1  \n29          1      1   -1    1   -1   -1           1           -1    -1  \n30         -1      1   -1    1    1    1           1            1     1  \n31         -1     -1   -1    1    0    1           1            0     1  \n32         -1      1   -1   -1    0   -1          -1           -1     1  \n33         -1      1    1    1    0    0           1            1    -1  \n34          1      1    1    1   -1   -1           0            1    -1  \n35          1      1   -1    0    1    1          -1            1     1  \n36         -1     -1   -1    1    0    1           1            0     1  \n37          1      1    1   -1   -1    1           1            0     1  \n\n[38 rows x 41 columns]",
      "text/html": "<div>\n<style scoped>\n    .dataframe tbody tr th:only-of-type {\n        vertical-align: middle;\n    }\n\n    .dataframe tbody tr th {\n        vertical-align: top;\n    }\n\n    .dataframe thead th {\n        text-align: right;\n    }\n</style>\n<table border=\"1\" class=\"dataframe\">\n  <thead>\n    <tr style=\"text-align: right;\">\n      <th></th>\n      <th>id</th>\n      <th>Thema</th>\n      <th>CDU</th>\n      <th>SPD</th>\n      <th>AfD</th>\n      <th>FDP</th>\n      <th>DIE LINKE</th>\n      <th>BÜNDNIS 90/DIE GRÜNEN</th>\n      <th>FREIE WÄHLER</th>\n      <th>PARTEI</th>\n      <th>...</th>\n      <th>III. Weg</th>\n      <th>Bündnis21</th>\n      <th>LIEBE</th>\n      <th>LKR</th>\n      <th>PdF</th>\n      <th>LfK</th>\n      <th>SSW</th>\n      <th>Todenhöfer</th>\n      <th>Unabhängige</th>\n      <th>Volt</th>\n    </tr>\n  </thead>\n  <tbody>\n    <tr>\n      <th>0</th>\n      <td>1</td>\n      <td>Tempolimit auf Autobahnen</td>\n      <td>-1</td>\n      <td>1</td>\n      <td>-1</td>\n      <td>-1</td>\n      <td>1</td>\n      <td>1</td>\n      <td>-1</td>\n      <td>1</td>\n      <td>...</td>\n      <td>0</td>\n      <td>-1</td>\n      <td>1</td>\n      <td>-1</td>\n      <td>-1</td>\n      <td>1</td>\n      <td>1</td>\n      <td>-1</td>\n      <td>-1</td>\n      <td>1</td>\n    </tr>\n    <tr>\n      <th>1</th>\n      <td>2</td>\n      <td>Erhöhung der Verteidigungsausgaben</td>\n      <td>1</td>\n      <td>1</td>\n      <td>1</td>\n      <td>1</td>\n      <td>-1</td>\n      <td>-1</td>\n      <td>1</td>\n      <td>-1</td>\n      <td>...</td>\n      <td>1</td>\n      <td>-1</td>\n      <td>1</td>\n      <td>1</td>\n      <td>1</td>\n      <td>-1</td>\n      <td>0</td>\n      <td>-1</td>\n      <td>0</td>\n      <td>-1</td>\n    </tr>\n    <tr>\n      <th>2</th>\n      <td>3</td>\n      <td>Wählen ab 16</td>\n      <td>-1</td>\n      <td>1</td>\n      <td>-1</td>\n      <td>1</td>\n      <td>1</td>\n      <td>1</td>\n      <td>-1</td>\n      <td>1</td>\n      <td>...</td>\n      <td>-1</td>\n      <td>-1</td>\n      <td>1</td>\n      <td>-1</td>\n      <td>0</td>\n      <td>1</td>\n      <td>1</td>\n      <td>0</td>\n      <td>0</td>\n      <td>1</td>\n    </tr>\n    <tr>\n      <th>3</th>\n      <td>4</td>\n      <td>Windenergie</td>\n      <td>-1</td>\n      <td>-1</td>\n      <td>1</td>\n      <td>0</td>\n      <td>-1</td>\n      <td>-1</td>\n      <td>-1</td>\n      <td>-1</td>\n      <td>...</td>\n      <td>1</td>\n      <td>1</td>\n      <td>1</td>\n      <td>1</td>\n      <td>-1</td>\n      <td>0</td>\n      <td>-1</td>\n      <td>-1</td>\n      <td>1</td>\n      <td>-1</td>\n    </tr>\n    <tr>\n      <th>4</th>\n      <td>5</td>\n      <td>Begrenzung für Mieterhöhungen</td>\n      <td>0</td>\n      <td>1</td>\n      <td>-1</td>\n      <td>-1</td>\n      <td>1</td>\n      <td>1</td>\n      <td>-1</td>\n      <td>1</td>\n      <td>...</td>\n      <td>1</td>\n      <td>-1</td>\n      <td>1</td>\n      <td>-1</td>\n      <td>0</td>\n      <td>0</td>\n      <td>1</td>\n      <td>-1</td>\n      <td>1</td>\n      <td>1</td>\n    </tr>\n    <tr>\n      <th>5</th>\n      <td>6</td>\n      <td>Patentschutz für Impfstoffe</td>\n      <td>1</td>\n      <td>1</td>\n      <td>1</td>\n      <td>1</td>\n      <td>-1</td>\n      <td>-1</td>\n      <td>1</td>\n      <td>-1</td>\n      <td>...</td>\n      <td>-1</td>\n      <td>-1</td>\n      <td>1</td>\n      <td>1</td>\n      <td>-1</td>\n      <td>-1</td>\n      <td>0</td>\n      <td>-1</td>\n      <td>0</td>\n      <td>-1</td>\n    </tr>\n    <tr>\n      <th>6</th>\n      <td>7</td>\n      <td>Ausstieg aus der Kohleverstromung</td>\n      <td>-1</td>\n      <td>1</td>\n      <td>-1</td>\n      <td>0</td>\n      <td>1</td>\n      <td>1</td>\n      <td>-1</td>\n      <td>1</td>\n      <td>...</td>\n      <td>-1</td>\n      <td>-1</td>\n      <td>-1</td>\n      <td>-1</td>\n      <td>0</td>\n      <td>1</td>\n      <td>1</td>\n      <td>-1</td>\n      <td>0</td>\n      <td>1</td>\n    </tr>\n    <tr>\n      <th>7</th>\n      <td>8</td>\n      <td>Gesetzliche Rentenversicherung</td>\n      <td>-1</td>\n      <td>1</td>\n      <td>1</td>\n      <td>-1</td>\n      <td>1</td>\n      <td>1</td>\n      <td>-1</td>\n      <td>1</td>\n      <td>...</td>\n      <td>1</td>\n      <td>1</td>\n      <td>1</td>\n      <td>-1</td>\n      <td>1</td>\n      <td>1</td>\n      <td>1</td>\n      <td>1</td>\n      <td>1</td>\n      <td>1</td>\n    </tr>\n    <tr>\n      <th>8</th>\n      <td>9</td>\n      <td>Abschaffung des Familiennachzugs</td>\n      <td>-1</td>\n      <td>-1</td>\n      <td>1</td>\n      <td>0</td>\n      <td>-1</td>\n      <td>-1</td>\n      <td>-1</td>\n      <td>-1</td>\n      <td>...</td>\n      <td>1</td>\n      <td>-1</td>\n      <td>-1</td>\n      <td>-1</td>\n      <td>-1</td>\n      <td>-1</td>\n      <td>-1</td>\n      <td>-1</td>\n      <td>0</td>\n      <td>-1</td>\n    </tr>\n    <tr>\n      <th>9</th>\n      <td>10</td>\n      <td>Steuer auf digitale Dienstleistungen</td>\n      <td>0</td>\n      <td>1</td>\n      <td>1</td>\n      <td>-1</td>\n      <td>1</td>\n      <td>1</td>\n      <td>1</td>\n      <td>1</td>\n      <td>...</td>\n      <td>1</td>\n      <td>1</td>\n      <td>1</td>\n      <td>-1</td>\n      <td>0</td>\n      <td>0</td>\n      <td>1</td>\n      <td>1</td>\n      <td>1</td>\n      <td>1</td>\n    </tr>\n    <tr>\n      <th>10</th>\n      <td>11</td>\n      <td>Traditionelle Familie</td>\n      <td>-1</td>\n      <td>-1</td>\n      <td>1</td>\n      <td>-1</td>\n      <td>-1</td>\n      <td>-1</td>\n      <td>-1</td>\n      <td>-1</td>\n      <td>...</td>\n      <td>1</td>\n      <td>-1</td>\n      <td>1</td>\n      <td>-1</td>\n      <td>-1</td>\n      <td>-1</td>\n      <td>-1</td>\n      <td>-1</td>\n      <td>1</td>\n      <td>-1</td>\n    </tr>\n    <tr>\n      <th>11</th>\n      <td>12</td>\n      <td>Parteispenden</td>\n      <td>1</td>\n      <td>1</td>\n      <td>1</td>\n      <td>1</td>\n      <td>-1</td>\n      <td>-1</td>\n      <td>0</td>\n      <td>-1</td>\n      <td>...</td>\n      <td>0</td>\n      <td>1</td>\n      <td>1</td>\n      <td>-1</td>\n      <td>1</td>\n      <td>-1</td>\n      <td>1</td>\n      <td>1</td>\n      <td>0</td>\n      <td>1</td>\n    </tr>\n    <tr>\n      <th>12</th>\n      <td>13</td>\n      <td>Elternunabhängiges BAföG</td>\n      <td>-1</td>\n      <td>-1</td>\n      <td>-1</td>\n      <td>1</td>\n      <td>1</td>\n      <td>1</td>\n      <td>1</td>\n      <td>1</td>\n      <td>...</td>\n      <td>1</td>\n      <td>-1</td>\n      <td>1</td>\n      <td>1</td>\n      <td>-1</td>\n      <td>1</td>\n      <td>1</td>\n      <td>1</td>\n      <td>0</td>\n      <td>1</td>\n    </tr>\n    <tr>\n      <th>13</th>\n      <td>14</td>\n      <td>Doppelte Staatsbürgerschaft</td>\n      <td>-1</td>\n      <td>1</td>\n      <td>-1</td>\n      <td>0</td>\n      <td>1</td>\n      <td>1</td>\n      <td>1</td>\n      <td>1</td>\n      <td>...</td>\n      <td>-1</td>\n      <td>-1</td>\n      <td>-1</td>\n      <td>-1</td>\n      <td>1</td>\n      <td>0</td>\n      <td>1</td>\n      <td>1</td>\n      <td>-1</td>\n      <td>1</td>\n    </tr>\n    <tr>\n      <th>14</th>\n      <td>15</td>\n      <td>Sprachliche Berücksichtigung von Geschlechtsid...</td>\n      <td>0</td>\n      <td>1</td>\n      <td>-1</td>\n      <td>0</td>\n      <td>1</td>\n      <td>1</td>\n      <td>0</td>\n      <td>1</td>\n      <td>...</td>\n      <td>-1</td>\n      <td>-1</td>\n      <td>1</td>\n      <td>-1</td>\n      <td>1</td>\n      <td>1</td>\n      <td>0</td>\n      <td>-1</td>\n      <td>-1</td>\n      <td>1</td>\n    </tr>\n    <tr>\n      <th>15</th>\n      <td>16</td>\n      <td>Nord Stream 2</td>\n      <td>1</td>\n      <td>1</td>\n      <td>1</td>\n      <td>0</td>\n      <td>0</td>\n      <td>-1</td>\n      <td>1</td>\n      <td>-1</td>\n      <td>...</td>\n      <td>1</td>\n      <td>-1</td>\n      <td>1</td>\n      <td>1</td>\n      <td>1</td>\n      <td>0</td>\n      <td>-1</td>\n      <td>1</td>\n      <td>1</td>\n      <td>-1</td>\n    </tr>\n    <tr>\n      <th>16</th>\n      <td>17</td>\n      <td>Abschaffung des Solidaritätszuschlags</td>\n      <td>1</td>\n      <td>-1</td>\n      <td>1</td>\n      <td>1</td>\n      <td>-1</td>\n      <td>-1</td>\n      <td>1</td>\n      <td>1</td>\n      <td>...</td>\n      <td>1</td>\n      <td>1</td>\n      <td>1</td>\n      <td>1</td>\n      <td>1</td>\n      <td>0</td>\n      <td>1</td>\n      <td>1</td>\n      <td>1</td>\n      <td>1</td>\n    </tr>\n    <tr>\n      <th>17</th>\n      <td>18</td>\n      <td>Kopftuch im Dienst</td>\n      <td>-1</td>\n      <td>-1</td>\n      <td>-1</td>\n      <td>0</td>\n      <td>1</td>\n      <td>1</td>\n      <td>0</td>\n      <td>1</td>\n      <td>...</td>\n      <td>-1</td>\n      <td>-1</td>\n      <td>1</td>\n      <td>-1</td>\n      <td>1</td>\n      <td>0</td>\n      <td>1</td>\n      <td>1</td>\n      <td>-1</td>\n      <td>1</td>\n    </tr>\n    <tr>\n      <th>18</th>\n      <td>19</td>\n      <td>Verbrennungsmotor</td>\n      <td>1</td>\n      <td>-1</td>\n      <td>1</td>\n      <td>1</td>\n      <td>-1</td>\n      <td>-1</td>\n      <td>1</td>\n      <td>-1</td>\n      <td>...</td>\n      <td>1</td>\n      <td>1</td>\n      <td>1</td>\n      <td>1</td>\n      <td>0</td>\n      <td>0</td>\n      <td>-1</td>\n      <td>1</td>\n      <td>1</td>\n      <td>-1</td>\n    </tr>\n    <tr>\n      <th>19</th>\n      <td>20</td>\n      <td>Schulpolitik</td>\n      <td>-1</td>\n      <td>1</td>\n      <td>-1</td>\n      <td>1</td>\n      <td>1</td>\n      <td>1</td>\n      <td>1</td>\n      <td>1</td>\n      <td>...</td>\n      <td>1</td>\n      <td>-1</td>\n      <td>1</td>\n      <td>-1</td>\n      <td>1</td>\n      <td>0</td>\n      <td>-1</td>\n      <td>1</td>\n      <td>1</td>\n      <td>1</td>\n    </tr>\n    <tr>\n      <th>20</th>\n      <td>21</td>\n      <td>Antisemitismus</td>\n      <td>1</td>\n      <td>1</td>\n      <td>1</td>\n      <td>1</td>\n      <td>1</td>\n      <td>1</td>\n      <td>1</td>\n      <td>1</td>\n      <td>...</td>\n      <td>-1</td>\n      <td>-1</td>\n      <td>1</td>\n      <td>1</td>\n      <td>1</td>\n      <td>0</td>\n      <td>1</td>\n      <td>1</td>\n      <td>0</td>\n      <td>1</td>\n    </tr>\n    <tr>\n      <th>21</th>\n      <td>22</td>\n      <td>Aufträge an chinesische Firmen</td>\n      <td>0</td>\n      <td>-1</td>\n      <td>1</td>\n      <td>1</td>\n      <td>-1</td>\n      <td>1</td>\n      <td>1</td>\n      <td>1</td>\n      <td>...</td>\n      <td>1</td>\n      <td>-1</td>\n      <td>1</td>\n      <td>1</td>\n      <td>1</td>\n      <td>0</td>\n      <td>1</td>\n      <td>-1</td>\n      <td>1</td>\n      <td>-1</td>\n    </tr>\n    <tr>\n      <th>22</th>\n      <td>23</td>\n      <td>Kirchensteuer</td>\n      <td>1</td>\n      <td>1</td>\n      <td>0</td>\n      <td>1</td>\n      <td>-1</td>\n      <td>1</td>\n      <td>1</td>\n      <td>-1</td>\n      <td>...</td>\n      <td>-1</td>\n      <td>-1</td>\n      <td>1</td>\n      <td>-1</td>\n      <td>-1</td>\n      <td>0</td>\n      <td>1</td>\n      <td>-1</td>\n      <td>-1</td>\n      <td>-1</td>\n    </tr>\n    <tr>\n      <th>23</th>\n      <td>24</td>\n      <td>Verkauf von Cannabis</td>\n      <td>-1</td>\n      <td>1</td>\n      <td>-1</td>\n      <td>1</td>\n      <td>1</td>\n      <td>1</td>\n      <td>1</td>\n      <td>1</td>\n      <td>...</td>\n      <td>-1</td>\n      <td>1</td>\n      <td>1</td>\n      <td>-1</td>\n      <td>1</td>\n      <td>0</td>\n      <td>1</td>\n      <td>1</td>\n      <td>1</td>\n      <td>1</td>\n    </tr>\n    <tr>\n      <th>24</th>\n      <td>25</td>\n      <td>Austritt aus der EU</td>\n      <td>-1</td>\n      <td>-1</td>\n      <td>1</td>\n      <td>-1</td>\n      <td>-1</td>\n      <td>-1</td>\n      <td>-1</td>\n      <td>-1</td>\n      <td>...</td>\n      <td>1</td>\n      <td>-1</td>\n      <td>-1</td>\n      <td>-1</td>\n      <td>-1</td>\n      <td>-1</td>\n      <td>-1</td>\n      <td>-1</td>\n      <td>-1</td>\n      <td>-1</td>\n    </tr>\n    <tr>\n      <th>25</th>\n      <td>26</td>\n      <td>Frauen und Männer auf Landeslisten</td>\n      <td>0</td>\n      <td>1</td>\n      <td>-1</td>\n      <td>-1</td>\n      <td>1</td>\n      <td>1</td>\n      <td>-1</td>\n      <td>1</td>\n      <td>...</td>\n      <td>-1</td>\n      <td>-1</td>\n      <td>1</td>\n      <td>-1</td>\n      <td>0</td>\n      <td>0</td>\n      <td>-1</td>\n      <td>-1</td>\n      <td>-1</td>\n      <td>1</td>\n    </tr>\n    <tr>\n      <th>26</th>\n      <td>27</td>\n      <td>Abrechnung über Fallpauschalen</td>\n      <td>1</td>\n      <td>-1</td>\n      <td>-1</td>\n      <td>1</td>\n      <td>-1</td>\n      <td>1</td>\n      <td>-1</td>\n      <td>-1</td>\n      <td>...</td>\n      <td>0</td>\n      <td>1</td>\n      <td>1</td>\n      <td>-1</td>\n      <td>-1</td>\n      <td>0</td>\n      <td>-1</td>\n      <td>-1</td>\n      <td>-1</td>\n      <td>-1</td>\n    </tr>\n    <tr>\n      <th>27</th>\n      <td>28</td>\n      <td>Steuer auf hohe Vermögen</td>\n      <td>-1</td>\n      <td>1</td>\n      <td>-1</td>\n      <td>-1</td>\n      <td>1</td>\n      <td>1</td>\n      <td>-1</td>\n      <td>1</td>\n      <td>...</td>\n      <td>1</td>\n      <td>-1</td>\n      <td>1</td>\n      <td>-1</td>\n      <td>-1</td>\n      <td>0</td>\n      <td>1</td>\n      <td>-1</td>\n      <td>1</td>\n      <td>-1</td>\n    </tr>\n    <tr>\n      <th>28</th>\n      <td>29</td>\n      <td>Gesichtserkennung bei Videoüberwachung</td>\n      <td>1</td>\n      <td>-1</td>\n      <td>0</td>\n      <td>-1</td>\n      <td>-1</td>\n      <td>-1</td>\n      <td>0</td>\n      <td>-1</td>\n      <td>...</td>\n      <td>-1</td>\n      <td>-1</td>\n      <td>1</td>\n      <td>-1</td>\n      <td>-1</td>\n      <td>0</td>\n      <td>-1</td>\n      <td>-1</td>\n      <td>0</td>\n      <td>-1</td>\n    </tr>\n    <tr>\n      <th>29</th>\n      <td>30</td>\n      <td>Ehepaare ohne Kinder</td>\n      <td>1</td>\n      <td>1</td>\n      <td>1</td>\n      <td>1</td>\n      <td>-1</td>\n      <td>0</td>\n      <td>1</td>\n      <td>1</td>\n      <td>...</td>\n      <td>-1</td>\n      <td>1</td>\n      <td>1</td>\n      <td>-1</td>\n      <td>1</td>\n      <td>-1</td>\n      <td>-1</td>\n      <td>1</td>\n      <td>-1</td>\n      <td>-1</td>\n    </tr>\n    <tr>\n      <th>30</th>\n      <td>31</td>\n      <td>Ökologische Landwirtschaft</td>\n      <td>0</td>\n      <td>1</td>\n      <td>-1</td>\n      <td>-1</td>\n      <td>1</td>\n      <td>1</td>\n      <td>0</td>\n      <td>1</td>\n      <td>...</td>\n      <td>1</td>\n      <td>-1</td>\n      <td>1</td>\n      <td>-1</td>\n      <td>1</td>\n      <td>1</td>\n      <td>1</td>\n      <td>1</td>\n      <td>1</td>\n      <td>1</td>\n    </tr>\n    <tr>\n      <th>31</th>\n      <td>32</td>\n      <td>Islamische Verbände</td>\n      <td>0</td>\n      <td>1</td>\n      <td>-1</td>\n      <td>1</td>\n      <td>1</td>\n      <td>1</td>\n      <td>-1</td>\n      <td>1</td>\n      <td>...</td>\n      <td>-1</td>\n      <td>-1</td>\n      <td>-1</td>\n      <td>-1</td>\n      <td>1</td>\n      <td>0</td>\n      <td>1</td>\n      <td>1</td>\n      <td>0</td>\n      <td>1</td>\n    </tr>\n    <tr>\n      <th>32</th>\n      <td>33</td>\n      <td>Anstieg des CO2-Preises</td>\n      <td>0</td>\n      <td>-1</td>\n      <td>-1</td>\n      <td>0</td>\n      <td>0</td>\n      <td>1</td>\n      <td>-1</td>\n      <td>1</td>\n      <td>...</td>\n      <td>-1</td>\n      <td>-1</td>\n      <td>1</td>\n      <td>-1</td>\n      <td>-1</td>\n      <td>0</td>\n      <td>-1</td>\n      <td>-1</td>\n      <td>-1</td>\n      <td>1</td>\n    </tr>\n    <tr>\n      <th>33</th>\n      <td>34</td>\n      <td>Schuldenbremse</td>\n      <td>1</td>\n      <td>1</td>\n      <td>1</td>\n      <td>1</td>\n      <td>-1</td>\n      <td>0</td>\n      <td>1</td>\n      <td>-1</td>\n      <td>...</td>\n      <td>0</td>\n      <td>-1</td>\n      <td>1</td>\n      <td>1</td>\n      <td>1</td>\n      <td>0</td>\n      <td>0</td>\n      <td>1</td>\n      <td>1</td>\n      <td>-1</td>\n    </tr>\n    <tr>\n      <th>34</th>\n      <td>35</td>\n      <td>Asyl nur für politisch Verfolgte</td>\n      <td>1</td>\n      <td>1</td>\n      <td>1</td>\n      <td>1</td>\n      <td>-1</td>\n      <td>-1</td>\n      <td>1</td>\n      <td>1</td>\n      <td>...</td>\n      <td>1</td>\n      <td>1</td>\n      <td>1</td>\n      <td>1</td>\n      <td>1</td>\n      <td>-1</td>\n      <td>-1</td>\n      <td>0</td>\n      <td>1</td>\n      <td>-1</td>\n    </tr>\n    <tr>\n      <th>35</th>\n      <td>36</td>\n      <td>Erhöhung des Mindestlohns</td>\n      <td>0</td>\n      <td>1</td>\n      <td>-1</td>\n      <td>-1</td>\n      <td>1</td>\n      <td>1</td>\n      <td>0</td>\n      <td>1</td>\n      <td>...</td>\n      <td>1</td>\n      <td>1</td>\n      <td>1</td>\n      <td>-1</td>\n      <td>0</td>\n      <td>1</td>\n      <td>1</td>\n      <td>-1</td>\n      <td>1</td>\n      <td>1</td>\n    </tr>\n    <tr>\n      <th>36</th>\n      <td>37</td>\n      <td>Besteuerung des Flugverkehrs</td>\n      <td>-1</td>\n      <td>1</td>\n      <td>-1</td>\n      <td>-1</td>\n      <td>1</td>\n      <td>1</td>\n      <td>1</td>\n      <td>1</td>\n      <td>...</td>\n      <td>-1</td>\n      <td>-1</td>\n      <td>-1</td>\n      <td>-1</td>\n      <td>1</td>\n      <td>0</td>\n      <td>1</td>\n      <td>1</td>\n      <td>0</td>\n      <td>1</td>\n    </tr>\n    <tr>\n      <th>37</th>\n      <td>38</td>\n      <td>Homeoffice</td>\n      <td>1</td>\n      <td>-1</td>\n      <td>1</td>\n      <td>0</td>\n      <td>-1</td>\n      <td>-1</td>\n      <td>1</td>\n      <td>-1</td>\n      <td>...</td>\n      <td>1</td>\n      <td>1</td>\n      <td>1</td>\n      <td>1</td>\n      <td>-1</td>\n      <td>-1</td>\n      <td>1</td>\n      <td>1</td>\n      <td>0</td>\n      <td>1</td>\n    </tr>\n  </tbody>\n</table>\n<p>38 rows × 41 columns</p>\n</div>"
     },
     "execution_count": 53,
     "metadata": {},
     "output_type": "execute_result"
    }
   ],
   "source": [
    "party_positions"
   ],
   "metadata": {
    "collapsed": false,
    "ExecuteTime": {
     "end_time": "2025-01-05T19:34:24.701894644Z",
     "start_time": "2025-01-05T19:34:24.485185220Z"
    }
   },
   "id": "74d65df505b07b8f",
   "execution_count": 53
  },
  {
   "cell_type": "code",
   "outputs": [],
   "source": [
    "party_matchings = get_party_matchings(constituency_positions, party_positions)"
   ],
   "metadata": {
    "collapsed": false,
    "ExecuteTime": {
     "end_time": "2025-01-05T20:10:10.465851072Z",
     "start_time": "2025-01-05T20:10:08.159537177Z"
    }
   },
   "id": "604ad318db1b1ff7",
   "execution_count": 102
  },
  {
   "cell_type": "code",
   "outputs": [
    {
     "name": "stdout",
     "output_type": "stream",
     "text": [
      "{1: 0.20860344740941755, 2: 0.2007638574802754, 3: 0.43023698247578845, 4: -0.8005140243946214, 5: 0.4534255131270057, 6: 0.20350627813314381, 7: 0.3244384139906528, 8: 0.3167926600762422, 9: -0.8033784899456541, 10: 0.5525546868830451, 11: -0.8996360190390041, 12: 0.2400407773542102, 13: 0.014882298464388016, 14: 0.34508553911538986, 15: 0.5390220614101211, 16: 0.18166742047339063, 17: -0.1493829553531046, 18: -0.10528885155750828, 19: -0.1947764783585679, 20: 0.44107026196578436, 21: 0.9887359738106006, 22: 0.18898293525159196, 23: 0.7444092667973266, 24: 0.4532891100055279, 25: -0.9104764776406568, 26: 0.4100277831621115, 27: 0.25465744868729945, 28: 0.20559539962525036, 29: -0.4987759614625286, 30: 0.5634741157129217, 31: 0.4688534240773047, 32: 0.6702705807183419, 33: 0.04839439167797377, 34: 0.5444925444925445, 35: 0.2513263408785797, 36: 0.45879548864623493, 37: 0.2458558577961563, 38: -0.28731522761373507}\n"
     ]
    }
   ],
   "source": [
    "c = 87\n",
    "print(constituency_positions[c]['positions'])\n",
    "# party_matchings[c]"
   ],
   "metadata": {
    "collapsed": false,
    "ExecuteTime": {
     "end_time": "2025-01-05T21:07:56.866485768Z",
     "start_time": "2025-01-05T21:07:56.825168379Z"
    }
   },
   "id": "f9541c4f77ad3272",
   "execution_count": 119
  },
  {
   "cell_type": "code",
   "outputs": [
    {
     "name": "stdout",
     "output_type": "stream",
     "text": [
      "Braunschweig\n",
      "Stadt Hannover I\n"
     ]
    },
    {
     "data": {
      "text/plain": "0.9967251302171372"
     },
     "execution_count": 151,
     "metadata": {},
     "output_type": "execute_result"
    }
   ],
   "source": [
    "a = 50\n",
    "b = 41\n",
    "\n",
    "print(constituency_positions[a]['name'])\n",
    "print(constituency_positions[b]['name'])\n",
    "get_similarity(constituency_positions, a, b)"
   ],
   "metadata": {
    "collapsed": false,
    "ExecuteTime": {
     "end_time": "2025-01-05T21:21:43.120312817Z",
     "start_time": "2025-01-05T21:21:43.102766771Z"
    }
   },
   "id": "a12b9cda382b47f6",
   "execution_count": 151
  },
  {
   "cell_type": "code",
   "outputs": [
    {
     "data": {
      "text/plain": "[83,\n 75,\n 18,\n 19,\n 20,\n 42,\n 5,\n 281,\n 95,\n 86,\n 82,\n 94,\n 129,\n 54,\n 76,\n 153,\n 81,\n 84,\n 87,\n 27,\n 183,\n 21,\n 50,\n 61,\n 41,\n 271,\n 80,\n 96,\n 93,\n 142,\n 182,\n 258,\n 22,\n 11,\n 23,\n 186,\n 140,\n 168,\n 39,\n 55,\n 14,\n 205,\n 132,\n 274,\n 37,\n 220,\n 53,\n 1,\n 219,\n 24,\n 107,\n 193,\n 79,\n 244,\n 143,\n 217,\n 152,\n 115,\n 101,\n 275,\n 85,\n 120,\n 141,\n 102,\n 179,\n 106,\n 290,\n 139,\n 218,\n 259,\n 48,\n 144,\n 160,\n 47,\n 117,\n 7,\n 72,\n 4,\n 26,\n 116,\n 171,\n 119,\n 60,\n 6,\n 12,\n 34,\n 159,\n 296,\n 203,\n 78,\n 2,\n 28,\n 185,\n 8,\n 191,\n 118,\n 13,\n 59,\n 69,\n 52,\n 128,\n 46,\n 114,\n 121,\n 173,\n 184,\n 63,\n 49,\n 40,\n 123,\n 287,\n 10,\n 35,\n 282,\n 57,\n 45,\n 100,\n 103,\n 56,\n 9,\n 15,\n 36,\n 33,\n 113,\n 43,\n 145,\n 122,\n 30,\n 58,\n 29,\n 125,\n 167,\n 62,\n 51,\n 38,\n 162,\n 169,\n 138,\n 133,\n 104,\n 98,\n 135,\n 134,\n 177,\n 199,\n 97,\n 242,\n 252,\n 261,\n 170,\n 3,\n 251,\n 283,\n 105,\n 180,\n 17,\n 187,\n 265,\n 109,\n 44,\n 127,\n 110,\n 111,\n 91,\n 77,\n 209,\n 181,\n 299,\n 88,\n 131,\n 130,\n 297,\n 298,\n 206,\n 112,\n 148,\n 176,\n 288,\n 25,\n 31,\n 64,\n 211,\n 124,\n 188,\n 146,\n 108,\n 178,\n 192,\n 291,\n 16,\n 207,\n 201,\n 294,\n 208,\n 92,\n 196,\n 65,\n 272,\n 293,\n 66,\n 221,\n 262,\n 198,\n 277,\n 68,\n 150,\n 126,\n 260,\n 204,\n 190,\n 264,\n 172,\n 90,\n 99,\n 266,\n 197,\n 89,\n 194,\n 289,\n 137,\n 243,\n 195,\n 284,\n 224,\n 67,\n 245,\n 175,\n 147,\n 70,\n 189,\n 273,\n 71,\n 136,\n 278,\n 200,\n 210,\n 166,\n 269,\n 149,\n 165,\n 233,\n 202,\n 268,\n 267,\n 74,\n 270,\n 286,\n 263,\n 279,\n 247,\n 215,\n 157,\n 73,\n 161,\n 246,\n 256,\n 158,\n 154,\n 156,\n 32,\n 163,\n 155,\n 151,\n 164,\n 236,\n 292,\n 238,\n 213,\n 295,\n 237,\n 276,\n 249,\n 174,\n 280,\n 285,\n 241,\n 222,\n 250,\n 226,\n 214,\n 239,\n 253,\n 223,\n 225,\n 257,\n 255,\n 216,\n 248,\n 235,\n 232,\n 240,\n 228,\n 229,\n 254,\n 212,\n 234,\n 227,\n 231,\n 230]"
     },
     "execution_count": 191,
     "metadata": {},
     "output_type": "execute_result"
    }
   ],
   "source": [
    "constituency_similarities = {}\n",
    "\n",
    "for c in constituency_positions:\n",
    "    s = get_constituency_similarities(constituency_positions, c)\n",
    "    constituency_similarities[c] = s"
   ],
   "metadata": {
    "collapsed": false,
    "ExecuteTime": {
     "end_time": "2025-01-05T21:36:57.828138691Z",
     "start_time": "2025-01-05T21:36:56.930659477Z"
    }
   },
   "id": "2062fd7ac5652987",
   "execution_count": 191
  },
  {
   "cell_type": "code",
   "outputs": [
    {
     "data": {
      "text/plain": "[(164, 'Erzgebirgskreis I', 0.7556278365350044),\n (156, 'Bautzen I', 0.7582224474096169),\n (157, 'Görlitz', 0.7591105710988039),\n (158, 'Sächsische Schweiz-Osterzgebirge', 0.7603419472321284),\n (227, 'Deggendorf', 0.764835137798943),\n (231, 'Straubing', 0.7675233946611297),\n (230, 'Rottal-Inn', 0.769502503052146),\n (234, 'Schwandorf', 0.7720708318857015),\n (161, 'Mittelsachsen', 0.7743031099570434),\n (155, 'Meißen', 0.7755549124970349),\n (151, 'Nordsachsen', 0.7849184092865465),\n (163, 'Chemnitzer Umland – Erzgebirgskreis II', 0.7859750301570084),\n (212, 'Altötting', 0.7924785695726443),\n (254, 'Donau-Ries', 0.7937842346964428),\n (73, 'Burgenland – Saalekreis', 0.7941097472954854),\n (235, 'Weiden', 0.7952277802247051),\n (229, 'Passau', 0.7975028695917711),\n (74, 'Mansfeld', 0.7991751868820972),\n (248, 'Bad Kissingen', 0.799705756350184),\n (240, 'Kulmbach', 0.8000297537127009),\n (228, 'Landshut', 0.8021134577631915),\n (154, 'Leipzig-Land', 0.8022537981405913),\n (165, 'Zwickau', 0.8032636568872211),\n (166, 'Vogtlandkreis', 0.8033447828413731),\n (195,\n  'Saalfeld-Rudolstadt – Saale-Holzland-Kreis – Saale-Orla-Kreis',\n  0.8039795312236123),\n (232, 'Amberg', 0.8046026750111628),\n (194, 'Gera – Greiz – Altenburger Land', 0.8058564963169094),\n (216, 'Ingolstadt', 0.8092840045731682),\n (71, 'Anhalt', 0.8114631054054896),\n (65, 'Elbe-Elster – Oberspreewald-Lausitz II', 0.8116331970471296),\n (239, 'Hof', 0.812207709497586),\n (255, 'Neu-Ulm', 0.8125529839617949),\n (285, 'Rottweil – Tuttlingen', 0.8140467678875423),\n (196,\n  'Suhl – Schmalkalden-Meiningen – Hildburghausen – Sonneberg',\n  0.8144175089748573),\n (223, 'Bad Tölz-Wolfratshausen – Miesbach', 0.8144339643676834),\n (189, 'Eichsfeld – Nordhausen – Kyffhäuserkreis', 0.8147659730734751),\n (190, 'Eisenach – Wartburgkreis – Unstrut-Hainich-Kreis', 0.8172653148459746),\n (280, 'Calw', 0.8174614959344199),\n (257, 'Ostallgäu', 0.8188225649263425),\n (253, 'Augsburg-Land', 0.8193995898004944),\n (225, 'Traunstein', 0.8194818218303608),\n (174, 'Fulda', 0.8202078308310575),\n (226, 'Weilheim', 0.8209264843597565),\n (214, 'Freising', 0.8218496265672087),\n (67, 'Börde – Jerichower Land', 0.8220556974263825),\n (250, 'Schweinfurt', 0.8223061476117652),\n (16,\n  'Mecklenburgische Seenplatte I – Vorpommern-Greifswald II',\n  0.8228277757937985),\n (192, 'Gotha – Ilm-Kreis', 0.8232357136321613),\n (295, 'Zollernalb – Sigmaringen', 0.8238097766183206),\n (222, 'Rosenheim', 0.8248789113505761),\n (70, 'Dessau – Wittenberg', 0.8250383854886923),\n (32, 'Cloppenburg – Vechta', 0.8251203270599771),\n (64, 'Cottbus – Spree-Neiße', 0.8269153604775171),\n (241, 'Ansbach', 0.8275048253684373),\n (276, 'Odenwald – Tauber', 0.828429815577788),\n (249, 'Main-Spessart', 0.8289899009690095),\n (238, 'Coburg', 0.8290213670903078),\n (237, 'Bayreuth', 0.8312540011040973),\n (213, 'Erding – Ebersberg', 0.8314932443380926),\n (292, 'Biberach', 0.8320419985570697),\n (66, 'Altmark', 0.8333592488271698),\n (68, 'Harz', 0.8352129692640167),\n (236, 'Bamberg', 0.8380802753745167),\n (17,\n  'Mecklenburgische Seenplatte II – Landkreis Rostock III',\n  0.8394673704722727),\n (210, 'Pirmasens', 0.8400597355843658),\n (149, 'Olpe – Märkischer Kreis I', 0.8416617463264976),\n (279, 'Pforzheim', 0.8421226714811375),\n (215, 'Fürstenfeldbruck', 0.843667712486735),\n (286, 'Schwarzwald-Baar', 0.8446834589040594),\n (256, 'Oberallgäu', 0.8450899610970133),\n (268, 'Schwäbisch Hall – Hohenlohe', 0.845784894938523),\n (263, 'Göppingen', 0.8460475067921123),\n (267, 'Heilbronn', 0.8463210235704889),\n (202, 'Bitburg', 0.8463487886151059),\n (246, 'Roth', 0.8466007756106152),\n (298, 'St. Wendel', 0.8470766704672229),\n (147, 'Hochsauerlandkreis', 0.847477212276898),\n (136, 'Höxter – Gütersloh III – Lippe II', 0.8481114461627848),\n (247, 'Aschaffenburg', 0.8485184716944181),\n (270, 'Aalen – Heidenheim', 0.8485241551118674),\n (269, 'Backnang – Schwäbisch Gmünd', 0.8489120970003663),\n (200, 'Mosel/Rhein-Hunsrück', 0.849197932474973),\n (299, 'Homburg', 0.8497905661861933),\n (297, 'Saarlouis', 0.8512308337899394),\n (233, 'Regensburg', 0.8517303151460416),\n (175, 'Main-Kinzig – Wetterau II – Schotten', 0.8538913139573004),\n (126, 'Borken II', 0.8549247284402411),\n (278, 'Bruchsal – Schwetzingen', 0.8557101388667637),\n (224, 'Starnberg – Landsberg am Lech', 0.8570988820656755),\n (162, 'Chemnitz', 0.8574768487271641),\n (56, 'Prignitz – Ostprignitz-Ruppin – Havelland I', 0.8574892026949736),\n (137, 'Paderborn', 0.8583915190968652),\n (273, 'Rastatt', 0.8584773571828229),\n (57, 'Uckermark – Barnim I', 0.8588125299629382),\n (197, 'Neuwied', 0.8593500398970599),\n (89, 'Heinsberg', 0.8593569722472868),\n (245, 'Nürnberg-Süd', 0.859630982205259),\n (90, 'Düren', 0.8601062887181348),\n (284, 'Offenburg', 0.8607127913185575),\n (172, 'Lahn-Dill', 0.8608592250932677),\n (289, 'Reutlingen', 0.860927395246236),\n (63, 'Frankfurt (Oder) – Oder-Spree', 0.8615212274007193),\n (204, 'Montabaur', 0.8618038499262102),\n (221, 'München-Land', 0.8623340849002398),\n (150, 'Märkischer Kreis II', 0.8628037177728921),\n (243, 'Fürth', 0.8637392007554946),\n (260, 'Böblingen', 0.8638017080748365),\n (31, 'Mittelems', 0.86393634293589),\n (266, 'Neckar-Zaber', 0.8640237315687337),\n (99, 'Oberbergischer Kreis', 0.8642708684406518),\n (264, 'Waiblingen', 0.8643188777157585),\n (62,\n  'Dahme-Spreewald – Teltow-Fläming III – Oberspreewald-Lausitz I',\n  0.86487795067832),\n (201, 'Kreuznach', 0.8652384659333745),\n (25, 'Unterems', 0.8657651666563638),\n (198, 'Ahrweiler', 0.8658734063355081),\n (262, 'Nürtingen', 0.8659811843111338),\n (124, 'Steinfurt I – Borken I', 0.8670959543771847),\n (15, 'Vorpommern-Rügen – Vorpommern-Greifswald I', 0.8677319060563508),\n (92, 'Euskirchen – Rhein-Erft-Kreis II', 0.8680856582040932),\n (293, 'Bodensee', 0.8683085775472584),\n (207, 'Ludwigshafen/Frankenthal', 0.8697790805056612),\n (277, 'Rhein-Neckar', 0.8698179903125824),\n (272, 'Karlsruhe-Land', 0.8709267968630213),\n (13,\n  'Ludwigslust-Parchim II – Nordwestmecklenburg II – Landkreis Rostock I',\n  0.8710692697715436),\n (294, 'Ravensburg', 0.8713676853475032),\n (169, 'Werra-Meißner – Hersfeld-Rotenburg', 0.872014505279092),\n (112, 'Kleve', 0.873103193662199),\n (148, 'Siegen-Wittgenstein', 0.8732263093048074),\n (208, 'Neustadt – Speyer', 0.8733162486418017),\n (59, 'Märkisch-Oderland – Barnim II', 0.8733433795475453),\n (108, 'Neuss I', 0.8734820510069548),\n (209, 'Kaiserslautern', 0.8736228951910355),\n (127, 'Coesfeld – Steinfurt II', 0.8736721199682119),\n (146, 'Soest', 0.8736917962001115),\n (130, 'Warendorf', 0.8746215719536768),\n (88, 'Aachen II', 0.8746580002719669),\n (291, 'Ulm', 0.8746783878279656),\n (170, 'Schwalm-Eder', 0.8751298103616385),\n (191, 'Jena – Sömmerda – Weimarer Land I', 0.8753700132166715),\n (58, 'Oberhavel – Havelland II', 0.8770992426855588),\n (211, 'Südpfalz', 0.8773405311705403),\n (206, 'Worms', 0.8773624320595688),\n (178, 'Rheingau-Taunus – Limburg', 0.8777717274947272),\n (188, 'Bergstraße', 0.8785586200634384),\n (131, 'Gütersloh I', 0.8787892188057023),\n (176, 'Hochtaunus', 0.879139056009278),\n (296, 'Saarbrücken', 0.8793322700150388),\n (111, 'Viersen', 0.8794208017166146),\n (110, 'Krefeld I – Neuss II', 0.8797527090073195),\n (181, 'Main-Taunus', 0.8797667964834885),\n (288, 'Waldshut', 0.8800827818003963),\n (60,\n  'Brandenburg an der Havel – Potsdam-Mittelmark I – Havelland III – Teltow-Fläming I',\n  0.8804721586769348),\n (91, 'Rhein-Erft-Kreis I', 0.8807439065691711),\n (44, 'Celle – Uelzen', 0.8807977759430015),\n (167, 'Waldeck', 0.8818343596067265),\n (51, 'Helmstedt – Wolfsburg', 0.8821758464975022),\n (77, 'Berlin-Reinickendorf', 0.88229543700125),\n (12,\n  'Schwerin – Ludwigslust-Parchim I – Nordwestmecklenburg I',\n  0.8823128192968674),\n (125, 'Bottrop – Recklinghausen III', 0.8823476911109315),\n (109, 'Mönchengladbach', 0.8828555535491098),\n (123, 'Gelsenkirchen', 0.8829999600444752),\n (265, 'Ludwigsburg', 0.8833488320121657),\n (138, 'Hagen – Ennepe-Ruhr-Kreis I', 0.8836589843218566),\n (180, 'Hanau', 0.8841556838894258),\n (187, 'Odenwald', 0.8842493365000886),\n (105, 'Mettmann II', 0.8846141565775125),\n (134, 'Minden-Lübbecke I', 0.885030730198418),\n (122, 'Recklinghausen II', 0.8851664497020717),\n (69, 'Magdeburg', 0.8854570041895624),\n (145, 'Hamm – Unna II', 0.8856455667621143),\n (38, 'Osnabrück-Land', 0.8862623958148884),\n (29, 'Cuxhaven – Stade II', 0.8863743630428011),\n (251, 'Würzburg', 0.8865774626318),\n (135, 'Lippe I', 0.8866965074669426),\n (133, 'Herford – Minden-Lübbecke II', 0.8869169761870056),\n (261, 'Esslingen', 0.8873851790972465),\n (98, 'Rhein-Sieg-Kreis II', 0.8875280630041522),\n (283, 'Emmendingen – Lahr', 0.8883665694316181),\n (159, 'Dresden I', 0.8886583234057168),\n (3, 'Steinburg – Dithmarschen Süd', 0.8888106915367247),\n (199, 'Koblenz', 0.8888837122118038),\n (97, 'Rhein-Sieg-Kreis I', 0.8890796724226488),\n (242, 'Erlangen', 0.8892040616640113),\n (104, 'Mettmann I', 0.8892621988936318),\n (252, 'Augsburg-Stadt', 0.8894647228913511),\n (49, 'Salzgitter – Wolfenbüttel', 0.8905588498485016),\n (45, 'Gifhorn – Peine', 0.8906610586661108),\n (160, 'Dresden II – Bautzen II', 0.890777330412961),\n (177, 'Wetterau I', 0.8915755286019236),\n (30, 'Stade I – Rotenburg II', 0.8916098152972944),\n (113, 'Wesel I', 0.8916099113030098),\n (52, 'Goslar – Northeim – Osterode', 0.8927927414506979),\n (35, 'Rotenburg I – Heidekreis', 0.8928372691464299),\n (33, 'Diepholz – Nienburg I', 0.893547649089426),\n (83,\n  'Berlin-Friedrichshain-Kreuzberg – Prenzlauer Berg Ost',\n  0.8935934312384317),\n (43, 'Hannover-Land I', 0.8937207888543687),\n (116, 'Duisburg II', 0.894300088778618),\n (40, 'Nienburg II – Schaumburg', 0.8946553321995279),\n (46, 'Hameln-Pyrmont – Holzminden', 0.8956299476357852),\n (121, 'Recklinghausen I', 0.8959057325815807),\n (85, 'Berlin-Marzahn-Hellersdorf', 0.8963851938971287),\n (100, 'Rheinisch-Bergischer Kreis', 0.8971529156444907),\n (9, 'Ostholstein – Stormarn-Nord', 0.8973324534526027),\n (36, 'Harburg', 0.8981107471041024),\n (103, 'Solingen – Remscheid – Wuppertal II', 0.8987973619044163),\n (72, 'Halle', 0.8990942935212819),\n (128, 'Steinfurt III', 0.899727551487628),\n (184, 'Groß-Gerau', 0.9012944512613777),\n (119, 'Essen II', 0.901345522326871),\n (287, 'Konstanz', 0.9013925868971141),\n (10, 'Herzogtum Lauenburg – Stormarn-Süd', 0.9016023334889166),\n (118, 'Mülheim – Essen I', 0.901692260275674),\n (282, 'Lörrach – Müllheim', 0.9019441372421124),\n (114, 'Krefeld II – Wesel II', 0.9026716246990865),\n (78, 'Berlin-Spandau – Charlottenburg Nord', 0.9027878836414472),\n (28, 'Delmenhorst – Wesermarsch – Oldenburg-Land', 0.9032770664250841),\n (173, 'Gießen', 0.9033609088678988),\n (26, 'Friesland – Wilhelmshaven – Wittmund', 0.9042521792737702),\n (117, 'Oberhausen – Wesel III', 0.9050141023258288),\n (34, 'Osterholz – Verden', 0.9067525645295152),\n (185, 'Offenbach', 0.9071192816531813),\n (203, 'Trier', 0.9079315306161744),\n (8, 'Segeberg – Stormarn-Mitte', 0.908308288679732),\n (2, 'Nordfriesland – Dithmarschen Nord', 0.9092806173021075),\n (171, 'Marburg', 0.9095350262863612),\n (144, 'Unna I', 0.9096499888628353),\n (47, 'Hannover-Land II', 0.9110223713351351),\n (141, 'Herne – Bochum II', 0.911792735503299),\n (193, 'Erfurt – Weimar – Weimarer Land II', 0.91183832990232),\n (6, 'Plön – Neumünster', 0.911962862588006),\n (48, 'Hildesheim', 0.9155661042966475),\n (152, 'Leipzig I', 0.9156995649296124),\n (7, 'Pinneberg', 0.9162136189683391),\n (4, 'Rendsburg-Eckernförde', 0.9164283694920703),\n (106, 'Düsseldorf I', 0.9174386621848697),\n (218, 'München-Ost', 0.9180998246776644),\n (139, 'Ennepe-Ruhr-Kreis II', 0.919257079841384),\n (259, 'Stuttgart II', 0.9219306566292161),\n (102, 'Wuppertal I', 0.9221040806790538),\n (290, 'Tübingen', 0.9226383226432332),\n (24, 'Aurich – Emden', 0.9227851329732482),\n (179, 'Wiesbaden', 0.9245178454321026),\n (115, 'Duisburg I', 0.9245565189471615),\n (120, 'Essen III', 0.9265114351842133),\n (143, 'Dortmund II', 0.9285084001472037),\n (14, 'Rostock – Landkreis Rostock II', 0.9293522148528011),\n (217, 'München-Nord', 0.9303764869206825),\n (275, 'Mannheim', 0.930826234231691),\n (101, 'Leverkusen – Köln IV', 0.9312979952872014),\n (79, 'Berlin-Steglitz-Zehlendorf', 0.936616608652661),\n (244, 'Nürnberg-Nord', 0.9368687351534563),\n (107, 'Düsseldorf II', 0.9382109216564083),\n (219, 'München-Süd', 0.9388259587109985),\n (220, 'München-West/Mitte', 0.9406102960073718),\n (76, 'Berlin-Pankow', 0.9410717957616559),\n (55, 'Bremen II – Bremerhaven', 0.9411840346940996),\n (53, 'Göttingen', 0.9426149493716459),\n (1, 'Flensburg – Schleswig', 0.9449222641587961),\n (37, 'Lüchow-Dannenberg – Lüneburg', 0.9459099221128551),\n (274, 'Heidelberg', 0.9459365320874177),\n (23, 'Hamburg-Bergedorf – Harburg', 0.9459990889751222),\n (168, 'Kassel', 0.9466140164193293),\n (132, 'Bielefeld – Gütersloh II', 0.9469332761359718),\n (205, 'Mainz', 0.9477960221290553),\n (39, 'Stadt Osnabrück', 0.9478487940651136),\n (84, 'Berlin-Treptow-Köpenick', 0.949023750534123),\n (140, 'Bochum I', 0.9497590696062145),\n (22, 'Hamburg-Wandsbek', 0.9501365227254912),\n (258, 'Stuttgart I', 0.9514329429835784),\n (75, 'Berlin-Mitte', 0.9517490399933956),\n (86, 'Berlin-Lichtenberg', 0.9526583613857023),\n (186, 'Darmstadt', 0.9537616302729476),\n (11, 'Lübeck', 0.9551334607504592),\n (61,\n  'Potsdam – Potsdam-Mittelmark II – Teltow-Fläming II',\n  0.9558876084139325),\n (142, 'Dortmund I', 0.9569071052619992),\n (182, 'Frankfurt am Main I', 0.9579012234431888),\n (96, 'Bonn', 0.9580446415970151),\n (80, 'Berlin-Charlottenburg-Wilmersdorf', 0.9599731893896678),\n (153, 'Leipzig II', 0.9599926504513908),\n (93, 'Köln I', 0.9605365431323292),\n (271, 'Karlsruhe-Stadt', 0.9614294016665536),\n (41, 'Stadt Hannover I', 0.9630476618241769),\n (183, 'Frankfurt am Main II', 0.9648564199483399),\n (21, 'Hamburg-Nord', 0.9652087755180292),\n (87, 'Aachen I', 0.9652928609153395),\n (50, 'Braunschweig', 0.9654132926436045),\n (27, 'Oldenburg – Ammerland', 0.9674355908777151),\n (129, 'Münster', 0.9714945021867808),\n (94, 'Köln II', 0.9720602246487855),\n (82, 'Berlin-Neukölln', 0.9734333016375988),\n (81, 'Berlin-Tempelhof-Schöneberg', 0.9742922032057414),\n (18, 'Hamburg-Mitte', 0.9746392789072333),\n (19, 'Hamburg-Altona', 0.9777897207899827),\n (54, 'Bremen I', 0.9783436080982699),\n (281, 'Freiburg', 0.9799007362472708),\n (20, 'Hamburg-Eimsbüttel', 0.9856363972839366),\n (95, 'Köln III', 0.9876746485798172),\n (42, 'Stadt Hannover II', 0.989082833342303),\n (5, 'Kiel', 1.0)]"
     },
     "execution_count": 208,
     "metadata": {},
     "output_type": "execute_result"
    }
   ],
   "source": [
    "constituencies = [(c, constituency_positions[c]['name'], constituency_similarities[5][c]) for c in range(1,300)]\n",
    "sorted_constituencies = sorted(constituencies, key= lambda c: c[2])\n",
    "sorted_constituencies"
   ],
   "metadata": {
    "collapsed": false,
    "ExecuteTime": {
     "end_time": "2025-01-05T21:54:36.966351181Z",
     "start_time": "2025-01-05T21:54:36.912804315Z"
    }
   },
   "id": "cc6ef4313afa2e40",
   "execution_count": 208
  },
  {
   "cell_type": "code",
   "outputs": [
    {
     "name": "stdout",
     "output_type": "stream",
     "text": [
      "{1: 0.9491036184974602, 2: 0.9148599110523676, 3: 0.8951351087225738, 4: 0.9221355474734482, 5: 0.9876746485798172, 6: 0.9182872797738552, 7: 0.9225380361541881, 8: 0.9146327058655807, 9: 0.9036568706384517, 10: 0.9079267506747648, 11: 0.961457877936309, 12: 0.8896176769911162, 13: 0.8781186857815461, 14: 0.936237327983594, 15: 0.8750367637505989, 16: 0.8301326334880471, 17: 0.846772228166521, 18: 0.9678565791014394, 19: 0.972686369526968, 20: 0.9813122397995303, 21: 0.9710718088454431, 22: 0.9569739894631688, 23: 0.953042704501316, 24: 0.9292424670175725, 25: 0.8721168006764838, 26: 0.9106038132938906, 27: 0.9744906694297315, 28: 0.9096287004452046, 29: 0.8927259970629212, 30: 0.8979614493174137, 31: 0.8709675532937683, 32: 0.8322373185817878, 33: 0.8998851958947303, 34: 0.9131041985496356, 35: 0.8991889031665514, 36: 0.9044351642899513, 37: 0.952234339298704, 38: 0.8926244309969864, 39: 0.9556910388529637, 40: 0.9010069662196486, 41: 0.9693992958442971, 42: 0.987366399334267, 43: 0.9000724228744899, 44: 0.8871494099631226, 45: 0.896987787988972, 46: 0.901954364821635, 47: 0.9173740053552553, 48: 0.921917738316768, 49: 0.896910483868622, 50: 0.9718647465549498, 51: 0.8885002636833514, 52: 0.899135409621007, 53: 0.9489665833917659, 54: 0.9866011205107704, 55: 0.9480691478248925, 56: 0.8643743158257668, 57: 0.8656976430937305, 58: 0.8842984003556029, 59: 0.8805500807007325, 60: 0.8873572718077274, 61: 0.9622977551592268, 62: 0.8721557895273021, 63: 0.8684063405315119, 64: 0.8339568782233294, 65: 0.8188467659027653, 66: 0.8405584064972151, 67: 0.8292548550964282, 68: 0.8424121269340615, 69: 0.8926561618596071, 70: 0.8322375431587374, 71: 0.8186622630755336, 72: 0.9062934511913271, 73: 0.8010584273393269, 74: 0.8063743445521422, 75: 0.9461188486617427, 76: 0.9433679180805793, 77: 0.888951026018484, 78: 0.9099870413114919, 79: 0.9428755524016781, 80: 0.9673461315314252, 81: 0.9816848890063189, 82: 0.9789036131291153, 83: 0.8874736944605752, 84: 0.95479261427855, 85: 0.9024094076943577, 86: 0.95736658688779, 87: 0.9720478524300821, 88: 0.8809897321480363, 89: 0.866290151204966, 90: 0.8664307059039843, 91: 0.8878079082972414, 92: 0.875175432891632, 93: 0.9679644825442687, 94: 0.9756472034806787, 95: 1.0, 96: 0.9649827432345427, 97: 0.896169447110188, 98: 0.8943566763182569, 99: 0.8707310679678489, 100: 0.9040301662509568, 101: 0.9383009808970059, 102: 0.9293032383490982, 103: 0.9051217790902649, 104: 0.8963519735811709, 105: 0.8914704321157546, 106: 0.9235505935760455, 107: 0.9453704101687194, 108: 0.8805718256944948, 109: 0.8895399545535365, 110: 0.8868621230870467, 111: 0.8865105764041542, 112: 0.8802014174187779, 113: 0.89795922941687, 114: 0.9089960418849351, 115: 0.931755676617206, 116: 0.9016049464728669, 117: 0.9117368431844914, 118: 0.9080438942957942, 119: 0.9085645256307459, 120: 0.9336284267060233, 121: 0.9022550014247106, 122: 0.8915180837221918, 123: 0.8902262785461881, 124: 0.8741935508893208, 125: 0.8886993251310513, 126: 0.8619559387981195, 127: 0.8807827852398383, 128: 0.9060791855077472, 129: 0.9789725028559321, 130: 0.8817385634754867, 131: 0.8858789934932418, 132: 0.9540937794114785, 133: 0.8932413933728551, 134: 0.8913551473842662, 135: 0.893112915183561, 136: 0.8550739002306029, 137: 0.8650185367900403, 138: 0.8901287425577508, 139: 0.9255814970272325, 140: 0.956418123571709, 141: 0.9190191100076149, 142: 0.9641334797663149, 143: 0.9356727086982053, 144: 0.9160016228829555, 145: 0.891997200782235, 146: 0.8802486805456697, 147: 0.8545709327431729, 148: 0.8796016306682329, 149: 0.8486173218556686, 150: 0.8691658566851692, 151: 0.7906895111611428, 152: 0.9219449773526025, 153: 0.9630387995061008, 154: 0.8080249000151878, 155: 0.7813260143716324, 156: 0.7639935492842136, 157: 0.7648816729733999, 158: 0.766113049106726, 159: 0.8944294252803128, 160: 0.896548432287558, 161: 0.780074211831641, 162: 0.8641261490023169, 163: 0.7917461320316056, 164: 0.7613989384096012, 165: 0.8090347587618186, 166: 0.8096216423812873, 167: 0.8881587767925764, 168: 0.9538131740893749, 169: 0.8783389224649415, 170: 0.8814542275474875, 171: 0.9166438032506786, 172: 0.8676808021411313, 173: 0.9105595297785349, 174: 0.82608694202344, 175: 0.861060583704273, 176: 0.8853318283134889, 177: 0.8974773750166536, 178: 0.8840871542614487, 179: 0.931813089504435, 180: 0.8913548415594714, 181: 0.8854285153755794, 182: 0.9639275003309294, 183: 0.9711257040925005, 184: 0.9084936089314218, 185: 0.9143184393232247, 186: 0.9609607879429928, 187: 0.8910255209697963, 188: 0.8848686357671196, 189: 0.8219651307435202, 190: 0.8245701725402232, 191: 0.8826748709109203, 192: 0.8302488283575186, 193: 0.9185545219619474, 194: 0.8125018712390902, 195: 0.8102483325487483, 196: 0.821710664409439, 197: 0.865674457082908, 198: 0.8722250403556288, 199: 0.8952353462319241, 200: 0.8555223496608219, 201: 0.8715628831192235, 202: 0.8526886918230145, 203: 0.9142794501813917, 204: 0.8681282671120599, 205: 0.9548871717106475, 206: 0.8838271052727635, 207: 0.8768093179954822, 208: 0.8793959652004115, 209: 0.8808220528610802, 210: 0.84725889325441, 211: 0.88403166617206, 212: 0.7973749309630449, 213: 0.8371549632301836, 214: 0.8275113454592996, 215: 0.8493294313788263, 216: 0.8149457234652597, 217: 0.9359600814591149, 218: 0.9246434066077399, 219: 0.9448407419371292, 220: 0.945980158195912, 221: 0.8679958037923313, 222: 0.8305406302426676, 223: 0.8200956832597747, 224: 0.8627606009577669, 225: 0.8243781832207621, 226: 0.826588203251848, 227: 0.7697314991893457, 228: 0.8070098191535928, 229: 0.8023992309821729, 230: 0.7743988644425474, 231: 0.7724197560515315, 232: 0.8094990364015641, 233: 0.8573920340381322, 234: 0.776967193276102, 235: 0.8010727790790302, 236: 0.8437419942666077, 237: 0.8369145708597122, 238: 0.8353457842761561, 239: 0.8185321266834347, 240: 0.8049261151031019, 241: 0.8324011867588381, 242: 0.8948657805561027, 243: 0.868867466816897, 244: 0.9433167697400783, 245: 0.8664044119195956, 246: 0.8520423422247386, 247: 0.8541801905865082, 248: 0.8053471947160986, 249: 0.8343833708624916, 250: 0.8278390533415538, 251: 0.8922391815238913, 252: 0.8959292764905334, 253: 0.8250613086925852, 254: 0.7989605046368043, 255: 0.8178001345143603, 256: 0.8507516799891048, 257: 0.8240666417839355, 258: 0.955359126521748, 259: 0.9279749714568307, 260: 0.869463426966928, 261: 0.8930468979893377, 262: 0.8716429032032244, 263: 0.8513559168993627, 264: 0.8699805966078501, 265: 0.8890105509042571, 266: 0.869685450460825, 267: 0.8520431053539117, 268: 0.851500408942696, 269: 0.85512978535991, 270: 0.8538057259874468, 271: 0.9673383545381172, 272: 0.8765885157551119, 273: 0.8638740020954954, 274: 0.9520271570518893, 275: 0.9367945913743269, 276: 0.8335812422557034, 277: 0.8754752458852356, 278: 0.8611502881898495, 279: 0.8478937733557348, 280: 0.8235399933522798, 281: 0.9827773781031284, 282: 0.9076606639369234, 283: 0.8939287223491414, 284: 0.8671871943964171, 285: 0.8205832272638297, 286: 0.8509018334872728, 287: 0.9070787559678462, 288: 0.885744500692487, 289: 0.8666030084924887, 290: 0.9287280335645832, 291: 0.8803401067200559, 292: 0.8378772201669887, 293: 0.873972112869395, 294: 0.8772300017215325, 295: 0.8300357745396162, 296: 0.8865314276850842, 297: 0.8584299914599848, 298: 0.854275828137267, 299: 0.8569897238562378}\n"
     ]
    }
   ],
   "source": [
    "print(constituency_similarities[95])"
   ],
   "metadata": {
    "collapsed": false,
    "ExecuteTime": {
     "end_time": "2025-01-05T21:51:36.404150692Z",
     "start_time": "2025-01-05T21:51:36.360021249Z"
    }
   },
   "id": "220708460287785",
   "execution_count": 206
  },
  {
   "cell_type": "code",
   "outputs": [
    {
     "name": "stdout",
     "output_type": "stream",
     "text": [
      "Die Datei wurde als constituency_similarities.json gespeichert.\n"
     ]
    }
   ],
   "source": [
    "import json\n",
    "\n",
    "# Dateiname der JSON-Datei\n",
    "datei_pfad = \"constituency_similarities.json\"\n",
    "\n",
    "# Speichern des 2D-Dictionaries\n",
    "with open(datei_pfad, \"w\", encoding=\"utf-8\") as file:\n",
    "    json.dump(constituency_similarities, file, indent=4, ensure_ascii=False)\n",
    "\n",
    "print(f\"Die Datei wurde als {datei_pfad} gespeichert.\")"
   ],
   "metadata": {
    "collapsed": false,
    "ExecuteTime": {
     "end_time": "2025-01-05T21:53:59.636806072Z",
     "start_time": "2025-01-05T21:53:59.451918375Z"
    }
   },
   "id": "57da9a594f17c563",
   "execution_count": 207
  }
 ],
 "metadata": {
  "kernelspec": {
   "display_name": "Python 3",
   "language": "python",
   "name": "python3"
  },
  "language_info": {
   "codemirror_mode": {
    "name": "ipython",
    "version": 2
   },
   "file_extension": ".py",
   "mimetype": "text/x-python",
   "name": "python",
   "nbconvert_exporter": "python",
   "pygments_lexer": "ipython2",
   "version": "2.7.6"
  }
 },
 "nbformat": 4,
 "nbformat_minor": 5
}
